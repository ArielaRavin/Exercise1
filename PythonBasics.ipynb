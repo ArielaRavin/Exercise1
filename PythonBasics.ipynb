{
 "cells": [
  {
   "cell_type": "code",
   "execution_count": 57,
   "id": "1438ed87-36f9-4d08-bef0-19b5ca8d92d1",
   "metadata": {},
   "outputs": [],
   "source": [
    "# Introduction to Python - Practice Exercise\n",
    "\n",
    "# Task 1: Variable Declaration and Data Types\n",
    "# Declare variables of different types and print their values and types\n",
    "\n",
    "# Task 2: String Manipulation\n",
    "# Create a string variable and use at least 3 different string methods on it\n",
    "\n",
    "# Task 3: Basic Operations\n",
    "# Perform arithmetic, comparison, and logical operations with variables\n",
    "\n",
    "# Task 5: Expression Combination\n",
    "# Write an expression that combines multiple operations and variables"
   ]
  },
  {
   "cell_type": "code",
   "execution_count": 58,
   "id": "e01d8ab1-a8a2-49a4-a9ec-04181e7c5eab",
   "metadata": {},
   "outputs": [],
   "source": [
    "#task 1\n",
    "#int\n",
    "Days = 9"
   ]
  },
  {
   "cell_type": "code",
   "execution_count": 59,
   "id": "e831861a-ed27-4b9b-b9e0-32edcbe0c8cc",
   "metadata": {},
   "outputs": [],
   "source": [
    "#string\n",
    "Dog_Name= 'Becky'"
   ]
  },
  {
   "cell_type": "code",
   "execution_count": 60,
   "id": "b87424e0-ebf6-4bae-a490-d95a336bf81d",
   "metadata": {},
   "outputs": [],
   "source": [
    "#float\n",
    "Cans1_Per_Day = 2.5"
   ]
  },
  {
   "cell_type": "code",
   "execution_count": 61,
   "id": "696bfca7-0aea-4e07-9310-444fdaccb93b",
   "metadata": {
    "scrolled": true
   },
   "outputs": [
    {
     "name": "stdout",
     "output_type": "stream",
     "text": [
      "9 Becky 2.5\n"
     ]
    }
   ],
   "source": [
    "#print variable values\n",
    "print(Days, Dog_Name, Cans1_Per_Day)"
   ]
  },
  {
   "cell_type": "code",
   "execution_count": 62,
   "id": "27474c8e-6daa-405f-befb-a04a5e4bb6bd",
   "metadata": {},
   "outputs": [
    {
     "name": "stdout",
     "output_type": "stream",
     "text": [
      "<class 'int'>\n",
      "<class 'str'>\n",
      "<class 'float'>\n"
     ]
    }
   ],
   "source": [
    "#print variable types\n",
    "print(type(Days))\n",
    "print(type(Dog_Name))\n",
    "print(type(Cans1_Per_Day))"
   ]
  },
  {
   "cell_type": "code",
   "execution_count": 63,
   "id": "b4b2fe74-d891-464b-a015-bf9996cdfa21",
   "metadata": {},
   "outputs": [
    {
     "name": "stdout",
     "output_type": "stream",
     "text": [
      "Over the course of 9 days, Becky will receive 22.5 cans of food.\n"
     ]
    }
   ],
   "source": [
    "#print variables in sentence\n",
    "print(\"Over the course of\",Days,\"days,\", Dog_Name, \"will receive\", Days * Cans1_Per_Day, \"cans of food.\")"
   ]
  },
  {
   "cell_type": "code",
   "execution_count": 68,
   "id": "90caa514-9fca-4eb8-9de0-79363676a8ff",
   "metadata": {},
   "outputs": [],
   "source": [
    "#task 2 string methods\n",
    "StoreName = 'petsmart'\n",
    "Town = 'Hannover'"
   ]
  },
  {
   "cell_type": "code",
   "execution_count": 69,
   "id": "e3cc3da2-c7aa-4453-81be-13e25194daf3",
   "metadata": {},
   "outputs": [
    {
     "name": "stdout",
     "output_type": "stream",
     "text": [
      "PETSMART\n"
     ]
    }
   ],
   "source": [
    "#left and right\n",
    "\n",
    "#uppercase\n",
    "print(StoreName.upper())"
   ]
  },
  {
   "cell_type": "code",
   "execution_count": 70,
   "id": "4fcaef24-5b6e-45e2-873f-284d74c14b27",
   "metadata": {},
   "outputs": [
    {
     "name": "stdout",
     "output_type": "stream",
     "text": [
      "Petsmart\n"
     ]
    }
   ],
   "source": [
    "#capitalize\n",
    "print(StoreName.capitalize())"
   ]
  },
  {
   "cell_type": "code",
   "execution_count": 71,
   "id": "417ed2f5-3e8a-40e0-82ed-00272ba3087c",
   "metadata": {},
   "outputs": [
    {
     "name": "stdout",
     "output_type": "stream",
     "text": [
      "2\n"
     ]
    }
   ],
   "source": [
    "#count\n",
    "print(StoreName.count('t'))"
   ]
  },
  {
   "cell_type": "code",
   "execution_count": 72,
   "id": "453c9922-a949-4553-90c4-b8d79f09b3a5",
   "metadata": {},
   "outputs": [
    {
     "name": "stdout",
     "output_type": "stream",
     "text": [
      "hannover\n"
     ]
    }
   ],
   "source": [
    "#lowercase\n",
    "print(Town.lower())"
   ]
  },
  {
   "cell_type": "code",
   "execution_count": 73,
   "id": "74f25893-0fcd-4d34-8d9e-8eafac327926",
   "metadata": {},
   "outputs": [
    {
     "name": "stdout",
     "output_type": "stream",
     "text": [
      "5\n"
     ]
    }
   ],
   "source": [
    "#find\n",
    "print(StoreName.find('a'))"
   ]
  },
  {
   "cell_type": "code",
   "execution_count": 74,
   "id": "60d6df08-f586-4253-8472-4933b3e1ecc6",
   "metadata": {},
   "outputs": [
    {
     "name": "stdout",
     "output_type": "stream",
     "text": [
      "b'Hannover'\n"
     ]
    }
   ],
   "source": [
    "#encode\n",
    "print(Town.encode())"
   ]
  },
  {
   "cell_type": "code",
   "execution_count": 64,
   "id": "a9e82b5a-7ab2-4774-935b-695ec61a6482",
   "metadata": {},
   "outputs": [],
   "source": [
    "#task 3 basic operations\n",
    "#print more variables\n",
    "Calories_Per_Can1 = 800\n",
    "Calories_Per_Can2 = 900\n",
    "Meals_Per_Day = 5\n",
    "Total_Calories_Per_Day = 2000"
   ]
  },
  {
   "cell_type": "code",
   "execution_count": 65,
   "id": "a1da9d41-af34-4057-a59e-3b0d4c18f34c",
   "metadata": {},
   "outputs": [
    {
     "data": {
      "text/plain": [
       "True"
      ]
     },
     "execution_count": 65,
     "metadata": {},
     "output_type": "execute_result"
    }
   ],
   "source": [
    "#compare variables\n",
    "Total_Calories_Per_Day !=2500"
   ]
  },
  {
   "cell_type": "code",
   "execution_count": 66,
   "id": "3c4d29eb-be03-4e85-b77e-e98a714ff170",
   "metadata": {},
   "outputs": [
    {
     "data": {
      "text/plain": [
       "True"
      ]
     },
     "execution_count": 66,
     "metadata": {},
     "output_type": "execute_result"
    }
   ],
   "source": [
    "Total_Calories_Per_Day < 2500"
   ]
  },
  {
   "cell_type": "code",
   "execution_count": 67,
   "id": "0b138acc-33d1-4cd8-9dc1-3466c543a849",
   "metadata": {},
   "outputs": [
    {
     "data": {
      "text/plain": [
       "False"
      ]
     },
     "execution_count": 67,
     "metadata": {},
     "output_type": "execute_result"
    }
   ],
   "source": [
    "Total_Calories_Per_Day >=2500"
   ]
  },
  {
   "cell_type": "markdown",
   "id": "eb3b3486-10e0-4303-a5a0-46950d1ccb70",
   "metadata": {},
   "source": [
    "#Arithmetic ????\n",
    "\n",
    "Total_Calories_Per_Day / Meals_Per_Day"
   ]
  },
  {
   "cell_type": "code",
   "execution_count": 76,
   "id": "3d82fe4a-6e18-4921-89d0-6b75c40b3dc0",
   "metadata": {},
   "outputs": [
    {
     "data": {
      "text/plain": [
       "400.0"
      ]
     },
     "execution_count": 76,
     "metadata": {},
     "output_type": "execute_result"
    }
   ],
   "source": [
    "#Arithmetic\n",
    "Total_Calories_Per_Day / Meals_Per_Day\n"
   ]
  },
  {
   "cell_type": "code",
   "execution_count": null,
   "id": "5aeef43b-138a-47c5-a398-40efc820d675",
   "metadata": {},
   "outputs": [],
   "source": []
  }
 ],
 "metadata": {
  "kernelspec": {
   "display_name": "Python 3 (ipykernel)",
   "language": "python",
   "name": "python3"
  },
  "language_info": {
   "codemirror_mode": {
    "name": "ipython",
    "version": 3
   },
   "file_extension": ".py",
   "mimetype": "text/x-python",
   "name": "python",
   "nbconvert_exporter": "python",
   "pygments_lexer": "ipython3",
   "version": "3.12.9"
  }
 },
 "nbformat": 4,
 "nbformat_minor": 5
}
